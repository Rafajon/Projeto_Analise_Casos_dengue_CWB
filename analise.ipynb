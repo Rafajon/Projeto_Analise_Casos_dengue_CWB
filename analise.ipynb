{
 "cells": [
  {
   "cell_type": "markdown",
   "id": "03b8f932",
   "metadata": {},
   "source": [
    "# 🦠 Análise de Casos de Dengue"
   ]
  },
  {
   "cell_type": "markdown",
   "id": "0546f4c6",
   "metadata": {},
   "source": [
    "- Este projeto tem como objetivo analisar os casos de dengue reportados em Curitiba-PR, a partir de dados abertos fornecidos pela Prefeitura de curitiba. Serão investigadas tendências temporais, padrões geográficos, evolução dos casos, e outros insights que ajudem a entender o comportamento da doença.\n"
   ]
  },
  {
   "cell_type": "code",
   "execution_count": 38,
   "id": "619a1384",
   "metadata": {},
   "outputs": [],
   "source": [
    "import pandas as pd\n",
    "import seaborn as sns\n",
    "import matplotlib.pyplot as plt"
   ]
  },
  {
   "cell_type": "markdown",
   "id": "362a328f",
   "metadata": {},
   "source": [
    "# Tratamento do DataFrame"
   ]
  },
  {
   "cell_type": "code",
   "execution_count": 39,
   "id": "2c25ffe9",
   "metadata": {},
   "outputs": [],
   "source": [
    "# estou importando a base que sera utilizada na analise\n",
    "\n",
    "df = pd.read_csv('dengue_dados_abertos_-_Base_de_Dados.csv',encoding='latin1',sep=';')"
   ]
  },
  {
   "cell_type": "code",
   "execution_count": 71,
   "id": "ebec9584",
   "metadata": {},
   "outputs": [
    {
     "data": {
      "text/html": [
       "<div>\n",
       "<style scoped>\n",
       "    .dataframe tbody tr th:only-of-type {\n",
       "        vertical-align: middle;\n",
       "    }\n",
       "\n",
       "    .dataframe tbody tr th {\n",
       "        vertical-align: top;\n",
       "    }\n",
       "\n",
       "    .dataframe thead th {\n",
       "        text-align: right;\n",
       "    }\n",
       "</style>\n",
       "<table border=\"1\" class=\"dataframe\">\n",
       "  <thead>\n",
       "    <tr style=\"text-align: right;\">\n",
       "      <th></th>\n",
       "      <th>DATA DA NOTIFICAÇÃO</th>\n",
       "      <th>DATA DOS PRIMEIROS SINTOMAS</th>\n",
       "      <th>BAIRRO DE RESIDÊNCIA</th>\n",
       "      <th>SEXO</th>\n",
       "      <th>IDADE (anos)</th>\n",
       "      <th>CRITÉRIO DE CONFIRMAÇÃO</th>\n",
       "      <th>LOCAL DE INFECÇÃO</th>\n",
       "      <th>EVOLUÇÃO</th>\n",
       "      <th>TEMPO_NOTIFICACAO</th>\n",
       "      <th>faixa_etaria</th>\n",
       "    </tr>\n",
       "  </thead>\n",
       "  <tbody>\n",
       "    <tr>\n",
       "      <th>0</th>\n",
       "      <td>2024-01-01</td>\n",
       "      <td>2024-01-01</td>\n",
       "      <td>XAXIM</td>\n",
       "      <td>M</td>\n",
       "      <td>43.0</td>\n",
       "      <td>laboratorial</td>\n",
       "      <td>Importado</td>\n",
       "      <td>Cura</td>\n",
       "      <td>0 days</td>\n",
       "      <td>36-45</td>\n",
       "    </tr>\n",
       "    <tr>\n",
       "      <th>1</th>\n",
       "      <td>2024-01-02</td>\n",
       "      <td>2024-01-01</td>\n",
       "      <td>ALTO BOQUEIRÃO</td>\n",
       "      <td>F</td>\n",
       "      <td>35.0</td>\n",
       "      <td>laboratorial</td>\n",
       "      <td>Importado</td>\n",
       "      <td>Cura</td>\n",
       "      <td>1 days</td>\n",
       "      <td>36-45</td>\n",
       "    </tr>\n",
       "    <tr>\n",
       "      <th>2</th>\n",
       "      <td>2024-01-03</td>\n",
       "      <td>2024-01-03</td>\n",
       "      <td>XAXIM</td>\n",
       "      <td>M</td>\n",
       "      <td>16.0</td>\n",
       "      <td>laboratorial</td>\n",
       "      <td>Importado</td>\n",
       "      <td>Cura</td>\n",
       "      <td>0 days</td>\n",
       "      <td>0-18</td>\n",
       "    </tr>\n",
       "    <tr>\n",
       "      <th>3</th>\n",
       "      <td>2024-01-03</td>\n",
       "      <td>2024-01-03</td>\n",
       "      <td>XAXIM</td>\n",
       "      <td>M</td>\n",
       "      <td>10.0</td>\n",
       "      <td>laboratorial</td>\n",
       "      <td>Importado</td>\n",
       "      <td>Cura</td>\n",
       "      <td>0 days</td>\n",
       "      <td>0-18</td>\n",
       "    </tr>\n",
       "    <tr>\n",
       "      <th>4</th>\n",
       "      <td>2024-01-03</td>\n",
       "      <td>2024-01-01</td>\n",
       "      <td>FAZENDINHA</td>\n",
       "      <td>F</td>\n",
       "      <td>18.0</td>\n",
       "      <td>laboratorial</td>\n",
       "      <td>Importado</td>\n",
       "      <td>Cura</td>\n",
       "      <td>2 days</td>\n",
       "      <td>19-25</td>\n",
       "    </tr>\n",
       "  </tbody>\n",
       "</table>\n",
       "</div>"
      ],
      "text/plain": [
       "  DATA DA NOTIFICAÇÃO DATA DOS PRIMEIROS SINTOMAS BAIRRO DE RESIDÊNCIA SEXO  \\\n",
       "0          2024-01-01                  2024-01-01                XAXIM    M   \n",
       "1          2024-01-02                  2024-01-01       ALTO BOQUEIRÃO    F   \n",
       "2          2024-01-03                  2024-01-03                XAXIM    M   \n",
       "3          2024-01-03                  2024-01-03                XAXIM    M   \n",
       "4          2024-01-03                  2024-01-01           FAZENDINHA    F   \n",
       "\n",
       "   IDADE (anos) CRITÉRIO DE CONFIRMAÇÃO LOCAL DE INFECÇÃO EVOLUÇÃO  \\\n",
       "0          43.0            laboratorial         Importado     Cura   \n",
       "1          35.0            laboratorial         Importado     Cura   \n",
       "2          16.0            laboratorial         Importado     Cura   \n",
       "3          10.0            laboratorial         Importado     Cura   \n",
       "4          18.0            laboratorial         Importado     Cura   \n",
       "\n",
       "  TEMPO_NOTIFICACAO faixa_etaria  \n",
       "0            0 days        36-45  \n",
       "1            1 days        36-45  \n",
       "2            0 days         0-18  \n",
       "3            0 days         0-18  \n",
       "4            2 days        19-25  "
      ]
     },
     "execution_count": 71,
     "metadata": {},
     "output_type": "execute_result"
    }
   ],
   "source": [
    "# com o head estou trazendo todas as colunas com 5 linhas \n",
    "\n",
    "df.head(5)"
   ]
  },
  {
   "cell_type": "code",
   "execution_count": 40,
   "id": "050a45cd",
   "metadata": {},
   "outputs": [],
   "source": [
    "df['CRITÉRIO DE CONFIRMAÇÃO'] = df['CRITÉRIO DE CONFIRMAÇÃO'].replace({\n",
    "                                                                        'clínico epidemiológico': 'Clínico Epidemiológico',\n",
    "                                                                        'em investigação' : 'Em investigação',\n",
    "                                                                        'Laboratório' : 'laboratorial'})"
   ]
  },
  {
   "cell_type": "code",
   "execution_count": 41,
   "id": "1486d015",
   "metadata": {},
   "outputs": [],
   "source": [
    "df['EVOLUÇÃO'] = df['EVOLUÇÃO'].replace({\n",
    "    'cura' : 'Cura',\n",
    "    'ignorado' : 'Ignorado'\n",
    "})"
   ]
  },
  {
   "cell_type": "code",
   "execution_count": 69,
   "id": "3d232313",
   "metadata": {},
   "outputs": [
    {
     "data": {
      "text/plain": [
       "DATA DA NOTIFICAÇÃO            0\n",
       "DATA DOS PRIMEIROS SINTOMAS    0\n",
       "BAIRRO DE RESIDÊNCIA           0\n",
       "SEXO                           0\n",
       "IDADE (anos)                   0\n",
       "CRITÉRIO DE CONFIRMAÇÃO        0\n",
       "LOCAL DE INFECÇÃO              0\n",
       "EVOLUÇÃO                       0\n",
       "TEMPO_NOTIFICACAO              0\n",
       "faixa_etaria                   0\n",
       "dtype: int64"
      ]
     },
     "execution_count": 69,
     "metadata": {},
     "output_type": "execute_result"
    }
   ],
   "source": [
    "df.isnull().sum()"
   ]
  },
  {
   "cell_type": "code",
   "execution_count": 70,
   "id": "31f57b4b",
   "metadata": {},
   "outputs": [
    {
     "data": {
      "text/plain": [
       "np.int64(0)"
      ]
     },
     "execution_count": 70,
     "metadata": {},
     "output_type": "execute_result"
    }
   ],
   "source": [
    "df.duplicated().sum()"
   ]
  },
  {
   "cell_type": "code",
   "execution_count": 45,
   "id": "29f11b18",
   "metadata": {},
   "outputs": [],
   "source": [
    "df.drop_duplicates(inplace=True)"
   ]
  },
  {
   "cell_type": "code",
   "execution_count": 46,
   "id": "74dd7086",
   "metadata": {},
   "outputs": [],
   "source": [
    "# aqui estou convertendo a a coluna de object para datetime\n",
    "\n",
    "df['DATA DA NOTIFICAÇÃO'] = pd.to_datetime(df['DATA DA NOTIFICAÇÃO'], format='%d/%m/%Y')"
   ]
  },
  {
   "cell_type": "code",
   "execution_count": 47,
   "id": "decbabd9",
   "metadata": {},
   "outputs": [],
   "source": [
    "# aqui estou convertendo a coluna de object para datetime\n",
    "\n",
    "df['DATA DOS PRIMEIROS SINTOMAS'] = pd.to_datetime(df['DATA DOS PRIMEIROS SINTOMAS'], format='%d/%m/%Y')"
   ]
  },
  {
   "cell_type": "code",
   "execution_count": 49,
   "id": "b55b87a5",
   "metadata": {},
   "outputs": [],
   "source": [
    "# aqui estou criando uma coluna no meu DataFrame, com a subtração de 2 colunas para saber quantos dias de sintomas\n",
    "\n",
    "df['TEMPO_NOTIFICACAO'] = df['DATA DA NOTIFICAÇÃO'] - df['DATA DOS PRIMEIROS SINTOMAS']"
   ]
  },
  {
   "cell_type": "markdown",
   "id": "987030e0",
   "metadata": {},
   "source": [
    "# 📅 Análise Temporal"
   ]
  },
  {
   "cell_type": "markdown",
   "id": "e8351e85",
   "metadata": {},
   "source": [
    "- **Tendência de notificações ao longo do tempo** (`DATA DA NOTIFICAÇÃO`)\n",
    "- Existe sazonalidade? (ex.: aumentos em certos meses do ano)"
   ]
  },
  {
   "cell_type": "code",
   "execution_count": 52,
   "id": "f032bcec",
   "metadata": {},
   "outputs": [],
   "source": [
    "df = df[df['TEMPO_NOTIFICACAO'] <= pd.Timedelta(days=10)]"
   ]
  },
  {
   "cell_type": "code",
   "execution_count": 53,
   "id": "2a5bfd8d",
   "metadata": {},
   "outputs": [
    {
     "name": "stdout",
     "output_type": "stream",
     "text": [
      "    ano_mes      inicio         fim  quantidade porcentagem\n",
      "0   2024-01  2024-01-01  2024-01-31         314      1.83 %\n",
      "1   2024-02  2024-02-01  2024-02-29         916      5.34 %\n",
      "2   2024-03  2024-03-01  2024-03-31        2889     16.84 %\n",
      "3   2024-04  2024-04-01  2024-04-30        5322     31.02 %\n",
      "4   2024-05  2024-05-01  2024-05-31        5691     33.17 %\n",
      "5   2024-06  2024-06-01  2024-06-30        1293      7.54 %\n",
      "6   2024-07  2024-07-01  2024-07-31         301      1.75 %\n",
      "7   2024-08  2024-08-01  2024-08-31         132      0.77 %\n",
      "8   2024-09  2024-09-01  2024-09-30          77      0.45 %\n",
      "9   2024-10  2024-10-01  2024-10-31          82      0.48 %\n",
      "10  2024-11  2024-11-01  2024-11-30          53      0.31 %\n",
      "11  2024-12  2024-12-01  2024-12-31          89      0.52 %\n"
     ]
    }
   ],
   "source": [
    "import pandas as pd\n",
    "\n",
    "# Supondo que df esteja carregado com a coluna 'DATA DA NOTIFICAÇÃO'\n",
    "df['DATA DA NOTIFICAÇÃO'] = pd.to_datetime(df['DATA DA NOTIFICAÇÃO'])\n",
    "\n",
    "# Cria uma lista com todos os primeiros dias do mês na base\n",
    "datas_mensais = pd.date_range(start=df['DATA DA NOTIFICAÇÃO'].min().replace(day=1),\n",
    "                               end=df['DATA DA NOTIFICAÇÃO'].max().replace(day=1),\n",
    "                               freq='MS')  # MS = Month Start\n",
    "\n",
    "resultados = []\n",
    "\n",
    "for inicio in datas_mensais:\n",
    "    fim = inicio + pd.offsets.MonthEnd(1)\n",
    "    filtro = (df['DATA DA NOTIFICAÇÃO'] >= inicio) & (df['DATA DA NOTIFICAÇÃO'] <= fim)\n",
    "    quantidade = df[filtro].shape[0]\n",
    "    resultados.append({\n",
    "        'ano_mes': inicio.strftime('%Y-%m'),\n",
    "        'inicio': inicio.date(),\n",
    "        'fim': fim.date(),\n",
    "        'quantidade': quantidade\n",
    "    })\n",
    "\n",
    "df_resultados = pd.DataFrame(resultados)\n",
    "\n",
    "# Adiciona a coluna de porcentagem\n",
    "total_geral = df_resultados['quantidade'].sum()\n",
    "df_resultados['porcentagem'] = (df_resultados['quantidade'] / total_geral * 100).round(2).astype(str) + ' %'\n",
    "\n",
    "print(df_resultados)\n"
   ]
  },
  {
   "cell_type": "code",
   "execution_count": 54,
   "id": "dd973d51",
   "metadata": {},
   "outputs": [
    {
     "data": {
      "image/png": "[encoded data removed]",
      "text/plain": [
       "<Figure size 1200x600 with 1 Axes>"
      ]
     },
     "metadata": {},
     "output_type": "display_data"
    }
   ],
   "source": [
    "plt.figure(figsize=(12, 6))\n",
    "sns.histplot(data=df, x='DATA DA NOTIFICAÇÃO', bins=30, color='purple')\n",
    "plt.title('Distribuição de Notificações ao Longo do Tempo')\n",
    "plt.xlabel('Data')\n",
    "plt.ylabel('Frequência')\n",
    "plt.xticks(rotation=45)\n",
    "plt.show()\n"
   ]
  },
  {
   "cell_type": "code",
   "execution_count": 55,
   "id": "c5ac9055",
   "metadata": {},
   "outputs": [
    {
     "data": {
      "text/html": [
       "<div>\n",
       "<style scoped>\n",
       "    .dataframe tbody tr th:only-of-type {\n",
       "        vertical-align: middle;\n",
       "    }\n",
       "\n",
       "    .dataframe tbody tr th {\n",
       "        vertical-align: top;\n",
       "    }\n",
       "\n",
       "    .dataframe thead th {\n",
       "        text-align: right;\n",
       "    }\n",
       "</style>\n",
       "<table border=\"1\" class=\"dataframe\">\n",
       "  <thead>\n",
       "    <tr style=\"text-align: right;\">\n",
       "      <th></th>\n",
       "      <th>DATA DA NOTIFICAÇÃO</th>\n",
       "      <th>DATA DOS PRIMEIROS SINTOMAS</th>\n",
       "      <th>BAIRRO DE RESIDÊNCIA</th>\n",
       "      <th>SEXO</th>\n",
       "      <th>IDADE (anos)</th>\n",
       "      <th>CRITÉRIO DE CONFIRMAÇÃO</th>\n",
       "      <th>LOCAL DE INFECÇÃO</th>\n",
       "      <th>EVOLUÇÃO</th>\n",
       "      <th>TEMPO_NOTIFICACAO</th>\n",
       "    </tr>\n",
       "  </thead>\n",
       "  <tbody>\n",
       "    <tr>\n",
       "      <th>0</th>\n",
       "      <td>2024-01-01</td>\n",
       "      <td>2024-01-01</td>\n",
       "      <td>XAXIM</td>\n",
       "      <td>M</td>\n",
       "      <td>43.0</td>\n",
       "      <td>laboratorial</td>\n",
       "      <td>Importado</td>\n",
       "      <td>Cura</td>\n",
       "      <td>0 days</td>\n",
       "    </tr>\n",
       "    <tr>\n",
       "      <th>1</th>\n",
       "      <td>2024-01-02</td>\n",
       "      <td>2024-01-01</td>\n",
       "      <td>ALTO BOQUEIRÃO</td>\n",
       "      <td>F</td>\n",
       "      <td>35.0</td>\n",
       "      <td>laboratorial</td>\n",
       "      <td>Importado</td>\n",
       "      <td>Cura</td>\n",
       "      <td>1 days</td>\n",
       "    </tr>\n",
       "    <tr>\n",
       "      <th>2</th>\n",
       "      <td>2024-01-03</td>\n",
       "      <td>2024-01-03</td>\n",
       "      <td>XAXIM</td>\n",
       "      <td>M</td>\n",
       "      <td>16.0</td>\n",
       "      <td>laboratorial</td>\n",
       "      <td>Importado</td>\n",
       "      <td>Cura</td>\n",
       "      <td>0 days</td>\n",
       "    </tr>\n",
       "    <tr>\n",
       "      <th>3</th>\n",
       "      <td>2024-01-03</td>\n",
       "      <td>2024-01-03</td>\n",
       "      <td>XAXIM</td>\n",
       "      <td>M</td>\n",
       "      <td>10.0</td>\n",
       "      <td>laboratorial</td>\n",
       "      <td>Importado</td>\n",
       "      <td>Cura</td>\n",
       "      <td>0 days</td>\n",
       "    </tr>\n",
       "    <tr>\n",
       "      <th>4</th>\n",
       "      <td>2024-01-03</td>\n",
       "      <td>2024-01-01</td>\n",
       "      <td>FAZENDINHA</td>\n",
       "      <td>F</td>\n",
       "      <td>18.0</td>\n",
       "      <td>laboratorial</td>\n",
       "      <td>Importado</td>\n",
       "      <td>Cura</td>\n",
       "      <td>2 days</td>\n",
       "    </tr>\n",
       "    <tr>\n",
       "      <th>...</th>\n",
       "      <td>...</td>\n",
       "      <td>...</td>\n",
       "      <td>...</td>\n",
       "      <td>...</td>\n",
       "      <td>...</td>\n",
       "      <td>...</td>\n",
       "      <td>...</td>\n",
       "      <td>...</td>\n",
       "      <td>...</td>\n",
       "    </tr>\n",
       "    <tr>\n",
       "      <th>320</th>\n",
       "      <td>2024-01-31</td>\n",
       "      <td>2024-01-30</td>\n",
       "      <td>SÍTIO CERCADO</td>\n",
       "      <td>F</td>\n",
       "      <td>44.0</td>\n",
       "      <td>laboratorial</td>\n",
       "      <td>Importado</td>\n",
       "      <td>Cura</td>\n",
       "      <td>1 days</td>\n",
       "    </tr>\n",
       "    <tr>\n",
       "      <th>321</th>\n",
       "      <td>2024-01-31</td>\n",
       "      <td>2024-01-24</td>\n",
       "      <td>CIDADE INDUSTRIAL DE CURITIBA</td>\n",
       "      <td>M</td>\n",
       "      <td>8.0</td>\n",
       "      <td>laboratorial</td>\n",
       "      <td>Importado</td>\n",
       "      <td>Cura</td>\n",
       "      <td>7 days</td>\n",
       "    </tr>\n",
       "    <tr>\n",
       "      <th>322</th>\n",
       "      <td>2024-01-31</td>\n",
       "      <td>2024-01-27</td>\n",
       "      <td>BUTIATUVINHA</td>\n",
       "      <td>F</td>\n",
       "      <td>52.0</td>\n",
       "      <td>laboratorial</td>\n",
       "      <td>Importado</td>\n",
       "      <td>Cura</td>\n",
       "      <td>4 days</td>\n",
       "    </tr>\n",
       "    <tr>\n",
       "      <th>323</th>\n",
       "      <td>2024-01-31</td>\n",
       "      <td>2024-01-31</td>\n",
       "      <td>CAMPO DE SANTANA</td>\n",
       "      <td>M</td>\n",
       "      <td>16.0</td>\n",
       "      <td>laboratorial</td>\n",
       "      <td>Importado</td>\n",
       "      <td>Cura</td>\n",
       "      <td>0 days</td>\n",
       "    </tr>\n",
       "    <tr>\n",
       "      <th>324</th>\n",
       "      <td>2024-01-31</td>\n",
       "      <td>2024-01-29</td>\n",
       "      <td>TATUQUARA</td>\n",
       "      <td>M</td>\n",
       "      <td>7.0</td>\n",
       "      <td>laboratorial</td>\n",
       "      <td>Importado</td>\n",
       "      <td>Cura</td>\n",
       "      <td>2 days</td>\n",
       "    </tr>\n",
       "  </tbody>\n",
       "</table>\n",
       "<p>314 rows × 9 columns</p>\n",
       "</div>"
      ],
      "text/plain": [
       "    DATA DA NOTIFICAÇÃO DATA DOS PRIMEIROS SINTOMAS  \\\n",
       "0            2024-01-01                  2024-01-01   \n",
       "1            2024-01-02                  2024-01-01   \n",
       "2            2024-01-03                  2024-01-03   \n",
       "3            2024-01-03                  2024-01-03   \n",
       "4            2024-01-03                  2024-01-01   \n",
       "..                  ...                         ...   \n",
       "320          2024-01-31                  2024-01-30   \n",
       "321          2024-01-31                  2024-01-24   \n",
       "322          2024-01-31                  2024-01-27   \n",
       "323          2024-01-31                  2024-01-31   \n",
       "324          2024-01-31                  2024-01-29   \n",
       "\n",
       "              BAIRRO DE RESIDÊNCIA SEXO  IDADE (anos) CRITÉRIO DE CONFIRMAÇÃO  \\\n",
       "0                            XAXIM    M          43.0            laboratorial   \n",
       "1                   ALTO BOQUEIRÃO    F          35.0            laboratorial   \n",
       "2                            XAXIM    M          16.0            laboratorial   \n",
       "3                            XAXIM    M          10.0            laboratorial   \n",
       "4                       FAZENDINHA    F          18.0            laboratorial   \n",
       "..                             ...  ...           ...                     ...   \n",
       "320                  SÍTIO CERCADO    F          44.0            laboratorial   \n",
       "321  CIDADE INDUSTRIAL DE CURITIBA    M           8.0            laboratorial   \n",
       "322                   BUTIATUVINHA    F          52.0            laboratorial   \n",
       "323               CAMPO DE SANTANA    M          16.0            laboratorial   \n",
       "324                      TATUQUARA    M           7.0            laboratorial   \n",
       "\n",
       "    LOCAL DE INFECÇÃO EVOLUÇÃO TEMPO_NOTIFICACAO  \n",
       "0           Importado     Cura            0 days  \n",
       "1           Importado     Cura            1 days  \n",
       "2           Importado     Cura            0 days  \n",
       "3           Importado     Cura            0 days  \n",
       "4           Importado     Cura            2 days  \n",
       "..                ...      ...               ...  \n",
       "320         Importado     Cura            1 days  \n",
       "321         Importado     Cura            7 days  \n",
       "322         Importado     Cura            4 days  \n",
       "323         Importado     Cura            0 days  \n",
       "324         Importado     Cura            2 days  \n",
       "\n",
       "[314 rows x 9 columns]"
      ]
     },
     "execution_count": 55,
     "metadata": {},
     "output_type": "execute_result"
    }
   ],
   "source": [
    "df[(df['DATA DA NOTIFICAÇÃO'].dt.year == 2024) & (df['DATA DA NOTIFICAÇÃO'].dt.month == 1)]"
   ]
  },
  {
   "cell_type": "markdown",
   "id": "83d4dec3",
   "metadata": {},
   "source": [
    "- **Diferença entre data dos primeiros sintomas e data da notificação**\n",
    "- Tempo médio até a notificação (indicador de agilidade do sistema)"
   ]
  },
  {
   "cell_type": "markdown",
   "id": "5facb63e",
   "metadata": {},
   "source": [
    "# 🌍 Análise Geográfica"
   ]
  },
  {
   "cell_type": "markdown",
   "id": "9f5c7a6f",
   "metadata": {},
   "source": [
    "- Distribuição dos casos por `BAIRRO DE RESIDÊNCIA`\n",
    " - Quais bairros concentram mais casos?"
   ]
  },
  {
   "cell_type": "code",
   "execution_count": 60,
   "id": "b8c744c6",
   "metadata": {},
   "outputs": [
    {
     "name": "stdout",
     "output_type": "stream",
     "text": [
      "             BAIRRO DE RESIDÊNCIA   QTD QTD_Porcentagem\n",
      "0   CIDADE INDUSTRIAL DE CURITIBA  2981         17.37 %\n",
      "1                          CAJURU  2124         12.38 %\n",
      "2                       TATUQUARA  1835         10.69 %\n",
      "3                   SÍTIO CERCADO  1484          8.65 %\n",
      "4                CAMPO DE SANTANA   994          5.79 %\n",
      "5                     BAIRRO ALTO   877          5.11 %\n",
      "6                  ALTO BOQUEIRÃO   847          4.94 %\n",
      "7                       BOQUEIRÃO   575          3.35 %\n",
      "8                           ATUBA   535          3.12 %\n",
      "9                      FAZENDINHA   438          2.55 %\n",
      "10                        UBERABA   417          2.43 %\n",
      "11                          XAXIM   328          1.91 %\n",
      "12                    PINHEIRINHO   289          1.68 %\n",
      "13                  SANTA CÂNDIDA   274           1.6 %\n",
      "14                     NOVO MUNDO   228          1.33 %\n",
      "15                CAPÃO DA IMBUIA   173          1.01 %\n",
      "16                      BOA VISTA   154           0.9 %\n",
      "17                         CENTRO   146          0.85 %\n",
      "18                     CAPÃO RASO   124          0.72 %\n",
      "19                          HAUER   123          0.72 %\n",
      "20                     ÁGUA VERDE   116          0.68 %\n",
      "21                      BACACHERI   109          0.64 %\n",
      "22                         TINGUI   108          0.63 %\n",
      "23                         PORTÃO   107          0.62 %\n",
      "24                 CAMPO COMPRIDO    99          0.58 %\n"
     ]
    }
   ],
   "source": [
    "contagem_bairros = df['BAIRRO DE RESIDÊNCIA'].value_counts().sort_index()\n",
    "porcentagem_bairros = df['BAIRRO DE RESIDÊNCIA'].value_counts(normalize=True).sort_index() * 100\n",
    "\n",
    "distribuicao_bairros = pd.DataFrame({\n",
    "    'QTD': contagem_bairros,\n",
    "    'QTD_Porcentagem': porcentagem_bairros.round(2)\n",
    "})\n",
    "\n",
    "distribuicao_bairros = (\n",
    "    df['BAIRRO DE RESIDÊNCIA']\n",
    "    .value_counts(normalize=False)\n",
    "    .to_frame(name='QTD')\n",
    "    .assign(\n",
    "        QTD_Porcentagem=lambda x: (x['QTD'] / x['QTD'].sum() * 100).round(2).astype(str) + ' %'\n",
    "    )\n",
    "    .sort_values(by='QTD', ascending=False)\n",
    "    .head(25)\n",
    "    .reset_index()\n",
    "    .rename(columns={'index': 'BAIRRO DE RESIDÊNCIA'})\n",
    ")\n",
    "\n",
    "print(distribuicao_bairros)\n"
   ]
  },
  {
   "cell_type": "markdown",
   "id": "02f90f46",
   "metadata": {},
   "source": [
    "# 👤 **Análise Demográfica**"
   ]
  },
  {
   "cell_type": "markdown",
   "id": "4a019e2b",
   "metadata": {},
   "source": [
    "\n",
    "- Distribuição por `SEXO`\n",
    "- Há diferença na incidência entre homens e mulheres?\n"
   ]
  },
  {
   "cell_type": "code",
   "execution_count": 61,
   "id": "cb898528",
   "metadata": {},
   "outputs": [
    {
     "data": {
      "text/plain": [
       "SEXO\n",
       "F    52.252462\n",
       "M    47.747538\n",
       "Name: proportion, dtype: float64"
      ]
     },
     "execution_count": 61,
     "metadata": {},
     "output_type": "execute_result"
    }
   ],
   "source": [
    "#Distribuição de pacientes por sexo.\n",
    "porc_sexo = df['SEXO'].value_counts(normalize=True) * 100\n",
    "porc_sexo"
   ]
  },
  {
   "cell_type": "markdown",
   "id": "88433980",
   "metadata": {},
   "source": [
    "- **Faixa etária (`IDADE (anos)`)**\n",
    "  - Quais faixas etárias são mais afetadas?"
   ]
  },
  {
   "cell_type": "code",
   "execution_count": 62,
   "id": "065e4d24",
   "metadata": {},
   "outputs": [
    {
     "name": "stdout",
     "output_type": "stream",
     "text": [
      "              Quantidade Porcentagem (%)\n",
      "faixa_etaria                            \n",
      "0-18                2656         15.48 %\n",
      "19-25               2215         12.91 %\n",
      "26-35               3198         18.64 %\n",
      "36-45               2851         16.62 %\n",
      "46-60               3653         21.29 %\n",
      "61-80               2375         13.84 %\n",
      "81-90                189           1.1 %\n",
      "91-100                22          0.13 %\n"
     ]
    }
   ],
   "source": [
    "# Distribuição etária (faixa etária ou idade média) e sexo\n",
    "bins = [0, 18, 25, 35, 45, 60, 80, 90, 100] #faixas etarias\n",
    "labels = ['0-18', '19-25', '26-35', '36-45', '46-60', '61-80', '81-90', '91-100']\n",
    "\n",
    "df['faixa_etaria'] = pd.cut(df['IDADE (anos)'], bins=bins, labels=labels, right=False)\n",
    "\n",
    "# Contagem absoluta\n",
    "contagem = df['faixa_etaria'].value_counts().sort_index()\n",
    "\n",
    "# Porcentagem\n",
    "porcentagem = (df['faixa_etaria'].value_counts(normalize=True).sort_index() * 100).round(2).astype(str) + ' %'\n",
    "\n",
    "# Juntando os dois em um DataFrame\n",
    "distribuicao_final = pd.DataFrame({\n",
    "    'Quantidade': contagem,\n",
    "    'Porcentagem (%)': porcentagem.round(2)\n",
    "})\n",
    "\n",
    "print(distribuicao_final)"
   ]
  },
  {
   "cell_type": "markdown",
   "id": "79d23e9f",
   "metadata": {},
   "source": [
    "# 🧪 Análise de Diagnóstico\n",
    "- Tipos de confirmação (`CRITÉRIO DE CONFIRMAÇÃO`)"
   ]
  },
  {
   "cell_type": "markdown",
   "id": "41cabf2c",
   "metadata": {},
   "source": [
    "- Qual o percentual de confirmações"
   ]
  },
  {
   "cell_type": "code",
   "execution_count": 63,
   "id": "d307a02e",
   "metadata": {},
   "outputs": [
    {
     "name": "stdout",
     "output_type": "stream",
     "text": [
      "  CRITÉRIO DE CONFIRMAÇÃO    QTD QTD_Porcentagem\n",
      "0            laboratorial  12509          72.9 %\n",
      "1  Clínico Epidemiológico   4650          27.1 %\n"
     ]
    }
   ],
   "source": [
    "contagem_criterio = df['CRITÉRIO DE CONFIRMAÇÃO'].value_counts().sort_index()\n",
    "porcentagem_criterio = df['CRITÉRIO DE CONFIRMAÇÃO'].value_counts(normalize=True).sort_index() * 100\n",
    "\n",
    "criterio_confirmacao = pd.DataFrame({\n",
    "    'QTD': contagem_criterio,\n",
    "    'QTD_Porcentagem': porcentagem_criterio.round(2)\n",
    "})\n",
    "\n",
    "criterio_confirmacao = (\n",
    "    df['CRITÉRIO DE CONFIRMAÇÃO']\n",
    "    .value_counts(normalize=False)\n",
    "    .to_frame(name='QTD')\n",
    "    .assign(\n",
    "        QTD_Porcentagem=lambda x: (x['QTD'] / x['QTD'].sum() * 100).round(2).astype(str) + ' %'\n",
    "    )\n",
    "    .sort_values(by='QTD', ascending=False)\n",
    "    .head(25)\n",
    "    .reset_index()\n",
    "    .rename(columns={'index': 'Bairro'})\n",
    ")\n",
    "\n",
    "print(criterio_confirmacao)\n"
   ]
  },
  {
   "cell_type": "markdown",
   "id": "55c70604",
   "metadata": {},
   "source": [
    "- Quantos casos ainda estão \"em investigação\"?"
   ]
  },
  {
   "cell_type": "markdown",
   "id": "65d33339",
   "metadata": {},
   "source": [
    "# 🌐 **Origem da Infecção**"
   ]
  },
  {
   "cell_type": "markdown",
   "id": "b472c91c",
   "metadata": {},
   "source": [
    "- **Proporção de casos autóctones x importados (`LOCAL DE INFECÇÃO`)**\n",
    "  - Indica se a doença está circulando localmente ou sendo trazida de fora"
   ]
  },
  {
   "cell_type": "code",
   "execution_count": 64,
   "id": "ddd8e815",
   "metadata": {},
   "outputs": [
    {
     "name": "stdout",
     "output_type": "stream",
     "text": [
      "  LOCAL DE INFECÇÃO    QTD QTD_Porcentagem\n",
      "0         Autóctone  12234          71.3 %\n",
      "1         Importado   4925          28.7 %\n"
     ]
    }
   ],
   "source": [
    "contagem_local_infeccao = df['LOCAL DE INFECÇÃO'].value_counts().sort_index()\n",
    "porcentagem_local_infeccao = df['LOCAL DE INFECÇÃO'].value_counts(normalize=True).sort_index() * 100\n",
    "\n",
    "local_infeccao = pd.DataFrame({\n",
    "    'QTD': contagem_local_infeccao,\n",
    "    'QTD_Porcentagem': porcentagem_local_infeccao.round(2)\n",
    "})\n",
    "\n",
    "local_infeccao = (\n",
    "    df['LOCAL DE INFECÇÃO']\n",
    "    .value_counts(normalize=False)\n",
    "    .to_frame(name='QTD')\n",
    "    .assign(\n",
    "        QTD_Porcentagem=lambda x: (x['QTD'] / x['QTD'].sum() * 100).round(2).astype(str) + ' %'\n",
    "    )\n",
    "    .sort_values(by='QTD', ascending=False)\n",
    "    .head(25)\n",
    "    .reset_index()\n",
    "    .rename(columns={'index': 'Bairro'})\n",
    ")\n",
    "\n",
    "print(local_infeccao)\n"
   ]
  },
  {
   "cell_type": "markdown",
   "id": "6a2f028e",
   "metadata": {},
   "source": [
    "# 💡 Análise de Desfecho Clínico\n"
   ]
  },
  {
   "cell_type": "markdown",
   "id": "4ee8dcec",
   "metadata": {},
   "source": [
    "- **Desfecho dos casos (`EVOLUÇÃO`)**\n"
   ]
  },
  {
   "cell_type": "markdown",
   "id": "1850beed",
   "metadata": {},
   "source": [
    "  - Percentual de cura, óbitos e casos em investigação\n"
   ]
  },
  {
   "cell_type": "code",
   "execution_count": 65,
   "id": "76246909",
   "metadata": {},
   "outputs": [
    {
     "name": "stdout",
     "output_type": "stream",
     "text": [
      "                  EVOLUÇÃO    QTD QTD_Porcentagem\n",
      "0                     Cura  17129         99.83 %\n",
      "1           Sem informação     15          0.09 %\n",
      "2        óbito pelo agravo      6          0.03 %\n",
      "3  óbito por outras causas      5          0.03 %\n",
      "4                 Ignorado      4          0.02 %\n"
     ]
    }
   ],
   "source": [
    "contagem_evolucao = df['EVOLUÇÃO'].value_counts().sort_index()\n",
    "porcentagem_evolucao = df['EVOLUÇÃO'].value_counts(normalize=True).sort_index() * 100\n",
    "\n",
    "evolucao = pd.DataFrame({\n",
    "    'QTD': contagem_evolucao,\n",
    "    'QTD_Porcentagem': porcentagem_evolucao.round(2)\n",
    "})\n",
    "\n",
    "evolucao = (\n",
    "    df['EVOLUÇÃO']\n",
    "    .value_counts(normalize=False)\n",
    "    .to_frame(name='QTD')\n",
    "    .assign(\n",
    "        QTD_Porcentagem=lambda x: (x['QTD'] / x['QTD'].sum() * 100).round(2).astype(str) + ' %'\n",
    "    )\n",
    "    .sort_values(by='QTD', ascending=False)\n",
    "    .head(25)\n",
    "    .reset_index()\n",
    "    .rename(columns={'index': 'Bairro'})\n",
    ")\n",
    "\n",
    "print(evolucao)\n"
   ]
  },
  {
   "cell_type": "code",
   "execution_count": 66,
   "id": "9461a3a4",
   "metadata": {},
   "outputs": [
    {
     "name": "stdout",
     "output_type": "stream",
     "text": [
      "5\n"
     ]
    }
   ],
   "source": [
    "valores = df.loc[df['EVOLUÇÃO'] == 'óbito por outras causas'].shape[0]\n",
    "print(valores)"
   ]
  },
  {
   "cell_type": "markdown",
   "id": "2668653a",
   "metadata": {},
   "source": [
    "# 🧩 Combinação de variáveis (Insights cruzados)"
   ]
  },
  {
   "cell_type": "markdown",
   "id": "b853c5da",
   "metadata": {},
   "source": [
    "- Existe associação entre bairro e tipo de infecção (autóctone/importado)?"
   ]
  },
  {
   "cell_type": "code",
   "execution_count": 77,
   "id": "191d884b",
   "metadata": {},
   "outputs": [
    {
     "name": "stdout",
     "output_type": "stream",
     "text": [
      "              BAIRRO DE RESIDÊNCIA LOCAL DE INFECÇÃO   QTD QTD_Porcentagem\n",
      "55   CIDADE INDUSTRIAL DE CURITIBA         Autóctone  2424         81.31 %\n",
      "131                      TATUQUARA         Autóctone  1669         90.95 %\n",
      "36                          CAJURU         Autóctone  1401         65.96 %\n",
      "41                CAMPO DE SANTANA         Autóctone   910         91.55 %\n",
      "125                  SÍTIO CERCADO         Autóctone   910         61.32 %\n",
      "..                             ...               ...   ...             ...\n",
      "82                 LAMENHA PEQUENA         Importado     4          80.0 %\n",
      "124                     SÃO MIGUEL         Autóctone     3         100.0 %\n",
      "127                         TABOÃO         Autóctone     3          60.0 %\n",
      "72                      HUGO LANGE         Importado     2         66.67 %\n",
      "105                        RIVIERA         Importado     2         100.0 %\n",
      "\n",
      "[75 rows x 4 columns]\n"
     ]
    }
   ],
   "source": [
    "# Agrupando por Bairro e Critério\n",
    "grupo_bairro_criterio_2 = (\n",
    "    df.groupby(['BAIRRO DE RESIDÊNCIA', 'LOCAL DE INFECÇÃO'])\n",
    "    .size()\n",
    "    .reset_index(name='QTD')\n",
    ")\n",
    "\n",
    "# Calculando a porcentagem dentro de cada bairro\n",
    "grupo_bairro_criterio_2['QTD_Porcentagem'] = (\n",
    "    grupo_bairro_criterio_2\n",
    "    .groupby('BAIRRO DE RESIDÊNCIA')['QTD']\n",
    "    .transform(lambda x: (x / x.sum() * 100).round(2).astype(str) + ' %')\n",
    ")\n",
    "\n",
    "# Pegando apenas o critério com maior QTD por bairro\n",
    "maior_criterio_por_bairro_2 = grupo_bairro_criterio_2.loc[\n",
    "    grupo_bairro_criterio_2.groupby('BAIRRO DE RESIDÊNCIA')['QTD'].idxmax()\n",
    "].sort_values(by='QTD', ascending=False)\n",
    "\n",
    "# Exibindo o resultado\n",
    "print(maior_criterio_por_bairro_2)"
   ]
  },
  {
   "cell_type": "markdown",
   "id": "88ea0048",
   "metadata": {},
   "source": [
    "- Existe associação entre bairro e tipo de infecção (laboratorial/Clínico Epidemiológico)?"
   ]
  },
  {
   "cell_type": "code",
   "execution_count": 67,
   "id": "bcb46695",
   "metadata": {},
   "outputs": [
    {
     "name": "stdout",
     "output_type": "stream",
     "text": [
      "              BAIRRO DE RESIDÊNCIA CRITÉRIO DE CONFIRMAÇÃO   QTD  \\\n",
      "36                          CAJURU            laboratorial  2072   \n",
      "54   CIDADE INDUSTRIAL DE CURITIBA  Clínico Epidemiológico  1535   \n",
      "119                  SÍTIO CERCADO            laboratorial  1332   \n",
      "124                      TATUQUARA            laboratorial   928   \n",
      "16                     BAIRRO ALTO            laboratorial   723   \n",
      "..                             ...                     ...   ...   \n",
      "76                 LAMENHA PEQUENA            laboratorial     5   \n",
      "113                       SÃO JOÃO            laboratorial     5   \n",
      "70                      HUGO LANGE            laboratorial     3   \n",
      "97                         RIVIERA            laboratorial     2   \n",
      "116                     SÃO MIGUEL  Clínico Epidemiológico     2   \n",
      "\n",
      "    QTD_Porcentagem  \n",
      "36          97.55 %  \n",
      "54          51.49 %  \n",
      "119         89.76 %  \n",
      "124         50.57 %  \n",
      "16          82.44 %  \n",
      "..              ...  \n",
      "76          100.0 %  \n",
      "113         71.43 %  \n",
      "70          100.0 %  \n",
      "97          100.0 %  \n",
      "116         66.67 %  \n",
      "\n",
      "[75 rows x 4 columns]\n"
     ]
    }
   ],
   "source": [
    "# Agrupando por Bairro e Critério\n",
    "grupo_bairro_criterio = (\n",
    "    df.groupby(['BAIRRO DE RESIDÊNCIA', 'CRITÉRIO DE CONFIRMAÇÃO'])\n",
    "    .size()\n",
    "    .reset_index(name='QTD')\n",
    ")\n",
    "\n",
    "# Calculando a porcentagem dentro de cada bairro\n",
    "grupo_bairro_criterio['QTD_Porcentagem'] = (\n",
    "    grupo_bairro_criterio\n",
    "    .groupby('BAIRRO DE RESIDÊNCIA')['QTD']\n",
    "    .transform(lambda x: (x / x.sum() * 100).round(2).astype(str) + ' %')\n",
    ")\n",
    "\n",
    "# Pegando apenas o critério com maior QTD por bairro\n",
    "maior_criterio_por_bairro = grupo_bairro_criterio.loc[\n",
    "    grupo_bairro_criterio.groupby('BAIRRO DE RESIDÊNCIA')['QTD'].idxmax()\n",
    "].sort_values(by='QTD', ascending=False)\n",
    "\n",
    "# Exibindo o resultado\n",
    "print(maior_criterio_por_bairro)\n",
    "\n"
   ]
  },
  {
   "cell_type": "code",
   "execution_count": null,
   "id": "cabb86af",
   "metadata": {},
   "outputs": [],
   "source": []
  },
  {
   "cell_type": "markdown",
   "id": "c43d890c",
   "metadata": {},
   "source": [
    "- Casos confirmados por critério clínico são mais comuns em uma faixa etária ou sexo específico?"
   ]
  }
 ],
 "metadata": {
  "kernelspec": {
   "display_name": "Python 3",
   "language": "python",
   "name": "python3"
  },
  "language_info": {
   "codemirror_mode": {
    "name": "ipython",
    "version": 3
   },
   "file_extension": ".py",
   "mimetype": "text/x-python",
   "name": "python",
   "nbconvert_exporter": "python",
   "pygments_lexer": "ipython3",
   "version": "3.10.11"
  }
 },
 "nbformat": 4,
 "nbformat_minor": 5
}
